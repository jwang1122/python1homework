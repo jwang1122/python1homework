{
 "cells": [
  {
   "cell_type": "code",
   "execution_count": 1,
   "metadata": {},
   "outputs": [],
   "source": [
    "import turtle"
   ]
  },
  {
   "cell_type": "code",
   "execution_count": 2,
   "metadata": {},
   "outputs": [],
   "source": [
    "pen = turtle.Turtle()\n",
    "def jason_circle(color, radius, x, y):\n",
    "    pen.penup()\n",
    "    pen.goto(x,y)\n",
    "    pen.pendown()\n",
    "    pen.fillcolor(color)\n",
    "    pen.begin_fill()\n",
    "    pen.circle(radius)\n",
    "    pen.end_fill()"
   ]
  },
  {
   "cell_type": "code",
   "execution_count": 3,
   "metadata": {},
   "outputs": [],
   "source": [
    "# 3 circles for snowman body\n",
    "jason_circle(\"#ffffff\", 30, 0, -40)\n",
    "jason_circle(\"#ffffff\", 40, 0, -100)\n",
    "jason_circle(\"#ffffff\", 60, 0, -200)"
   ]
  },
  {
   "cell_type": "code",
   "execution_count": 4,
   "metadata": {},
   "outputs": [],
   "source": [
    "# Eyes and Nose\n",
    "jason_circle(\"#ffffff\", 2, -10, -10) \n",
    "jason_circle(\"#ffffff\", 2, 10, -10) \n",
    "jason_circle(\"#FF6600\", 3, 0, -15) "
   ]
  },
  {
   "cell_type": "code",
   "execution_count": 5,
   "metadata": {},
   "outputs": [],
   "source": [
    "# Buttons\n",
    "jason_circle(\"#ffffff\", 2, 0, -35)\n",
    "jason_circle(\"#ffffff\", 2, 0, -45)\n",
    "jason_circle(\"#ffffff\", 2, 0, -55)"
   ]
  },
  {
   "cell_type": "code",
   "execution_count": 6,
   "metadata": {},
   "outputs": [],
   "source": [
    "# Two arms\n",
    "pen.penup()\n",
    "pen.goto(-15,-35)\n",
    "pen.pendown()\n",
    "pen.pensize(5)\n",
    "pen.goto(-75, -50)\n",
    "\n",
    "pen.penup()\n",
    "pen.goto(15,-35)\n",
    "pen.pendown()\n",
    "pen.pensize(5)\n",
    "pen.goto(75, -50)"
   ]
  },
  {
   "cell_type": "code",
   "execution_count": 7,
   "metadata": {},
   "outputs": [],
   "source": [
    "# Hat\n",
    "pen.penup()\n",
    "pen.goto(-35, 8)\n",
    "pen.color(\"black\")\n",
    "pen.pensize(6)\n",
    "pen.pendown()\n",
    "pen.goto(35, 8)\n",
    " \n",
    "pen.goto(30, 8)\n",
    "pen.fillcolor(\"black\")\n",
    "pen.begin_fill()\n",
    "pen.left(90)\n",
    "pen.forward(15)\n",
    "pen.left(90)\n",
    "pen.forward(60)\n",
    "pen.left(90)\n",
    "pen.forward(15)\n",
    "pen.end_fill()"
   ]
  },
  {
   "cell_type": "code",
   "execution_count": 8,
   "metadata": {},
   "outputs": [
    {
     "name": "stdout",
     "output_type": "stream",
     "text": [
      "Jason finishes here\n"
     ]
    }
   ],
   "source": [
    "exit()\n",
    "print('Jason finishes here')"
   ]
  },
  {
   "cell_type": "code",
   "execution_count": 3,
   "metadata": {},
   "outputs": [],
   "source": [
    "#jason_circle(\"blue\",50,0,0)\n",
    "#jason_circle(\"green\",75,0,-100)\n",
    "#jason_circle(\"white\",100,0,-200)"
   ]
  }
 ],
 "metadata": {
  "kernelspec": {
   "display_name": "Python 3",
   "language": "python",
   "name": "python3"
  },
  "language_info": {
   "codemirror_mode": {
    "name": "ipython",
    "version": 3
   },
   "file_extension": ".py",
   "mimetype": "text/x-python",
   "name": "python",
   "nbconvert_exporter": "python",
   "pygments_lexer": "ipython3",
   "version": "3.7.4"
  }
 },
 "nbformat": 4,
 "nbformat_minor": 2
}
